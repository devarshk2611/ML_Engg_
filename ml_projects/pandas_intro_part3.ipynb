{
 "cells": [
  {
   "cell_type": "markdown",
   "id": "3296fcb4",
   "metadata": {},
   "source": [
    "# Pandas + ML — Part 3\n",
    "End-to-end mini project:\n",
    "- Load cleaned Iris data\n",
    "- Train/test split\n",
    "- Simple ML model (Logistic Regression)\n",
    "- Evaluate with accuracy & confusion matrix\n",
    "- Show feature importance coefficients\n"
   ]
  },
  {
   "cell_type": "code",
   "execution_count": null,
   "id": "19d2feb7",
   "metadata": {},
   "outputs": [],
   "source": [
    "import pandas as pd\n",
    "import matplotlib.pyplot as plt\n",
    "from sklearn.model_selection import train_test_split\n",
    "from sklearn.linear_model import LogisticRegression\n",
    "from sklearn.metrics import accuracy_score, confusion_matrix, ConfusionMatrixDisplay\n",
    "\n",
    "%matplotlib inline\n",
    "\n",
    "CSV_PATH = \"ml_projects/data/iris_cleaned_engineered.csv\"  # produced in part 2\n",
    "df = pd.read_csv(CSV_PATH)\n",
    "df.head()"
   ]
  },
  {
   "cell_type": "code",
   "execution_count": null,
   "id": "df4dc945",
   "metadata": {},
   "outputs": [],
   "source": [
    "# Features and target\n",
    "X = df.drop(columns=['species','species_index'])\n",
    "y = df['species']\n",
    "\n",
    "print(\"Feature shape:\", X.shape)\n",
    "print(\"Target shape:\", y.shape)\n",
    "X.head()"
   ]
  },
  {
   "cell_type": "code",
   "execution_count": null,
   "id": "afa5b04a",
   "metadata": {},
   "outputs": [],
   "source": [
    "# Train/test split\n",
    "X_train, X_test, y_train, y_test = train_test_split(\n",
    "    X, y, test_size=0.3, random_state=42, stratify=y\n",
    ")\n",
    "print(\"Train size:\", X_train.shape, \"Test size:\", X_test.shape)"
   ]
  },
  {
   "cell_type": "code",
   "execution_count": null,
   "id": "160dff78",
   "metadata": {},
   "outputs": [],
   "source": [
    "# Train logistic regression (multi-class, simple baseline)\n",
    "model = LogisticRegression(max_iter=200)\n",
    "model.fit(X_train, y_train)\n",
    "\n",
    "y_pred = model.predict(X_test)\n",
    "\n",
    "acc = accuracy_score(y_test, y_pred)\n",
    "print(\"Accuracy:\", acc)"
   ]
  },
  {
   "cell_type": "code",
   "execution_count": null,
   "id": "6fdb7534",
   "metadata": {},
   "outputs": [],
   "source": [
    "# Confusion matrix\n",
    "cm = confusion_matrix(y_test, y_pred, labels=model.classes_)\n",
    "disp = ConfusionMatrixDisplay(confusion_matrix=cm, display_labels=model.classes_)\n",
    "disp.plot(cmap='Blues')\n",
    "plt.title(\"Confusion Matrix\")\n",
    "plt.show()"
   ]
  },
  {
   "cell_type": "code",
   "execution_count": null,
   "id": "fba825ec",
   "metadata": {},
   "outputs": [],
   "source": [
    "# Coefficients (feature importance for logistic regression)\n",
    "coef_df = pd.DataFrame(model.coef_, columns=X.columns, index=model.classes_)\n",
    "coef_df.T"
   ]
  },
  {
   "cell_type": "markdown",
   "id": "842433af",
   "metadata": {},
   "source": [
    "## Next steps\n",
    "- Try other models: DecisionTreeClassifier, RandomForestClassifier\n",
    "- Add cross-validation\n",
    "- Compare models with accuracy and F1-score\n",
    "- Export trained model with joblib\n"
   ]
  }
 ],
 "metadata": {},
 "nbformat": 4,
 "nbformat_minor": 5
}
