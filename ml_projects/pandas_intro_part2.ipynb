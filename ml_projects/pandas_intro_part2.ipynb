{
 "cells": [
  {
   "cell_type": "markdown",
   "id": "3e63e4fe",
   "metadata": {},
   "source": [
    "# Pandas Intro — Part 2\n",
    "Practical data-wrangling patterns:\n",
    "- Load a CSV with **missing values** and handle them\n",
    "- **Feature engineering** (new columns)\n",
    "- **Scaling** numeric features\n",
    "- **Joins/Merges** between tables\n",
    "- A couple of Matplotlib charts\n",
    "\n",
    "Dataset: Iris (classic) with a few injected missing values for demo."
   ]
  },
  {
   "cell_type": "code",
   "execution_count": null,
   "id": "742aef16",
   "metadata": {},
   "outputs": [],
   "source": [
    "import pandas as pd\n",
    "import numpy as np\n",
    "import matplotlib.pyplot as plt\n",
    "\n",
    "%matplotlib inline\n",
    "\n",
    "# Paths (adjust to your repo layout as needed)\n",
    "CSV_PATH = \"ml_projects/data/iris_with_missing.csv\"  # put this csv under your repo\n"
   ]
  },
  {
   "cell_type": "code",
   "execution_count": null,
   "id": "abe62935",
   "metadata": {},
   "outputs": [],
   "source": [
    "# Load the CSV (created for you alongside this notebook)\n",
    "df = pd.read_csv(CSV_PATH)\n",
    "df.head()"
   ]
  },
  {
   "cell_type": "code",
   "execution_count": null,
   "id": "5a55701b",
   "metadata": {},
   "outputs": [],
   "source": [
    "# Missing values overview\n",
    "print(\"Shape:\", df.shape)\n",
    "print(\"\\nMissing per column:\")\n",
    "print(df.isna().sum())"
   ]
  },
  {
   "cell_type": "code",
   "execution_count": null,
   "id": "23ff9267",
   "metadata": {},
   "outputs": [],
   "source": [
    "# Simple missing-value handling strategies:\n",
    "# 1) Drop rows with any missing values (for demo only — can lose data)\n",
    "dropped = df.dropna()\n",
    "print(\"After dropna:\", dropped.shape)\n",
    "\n",
    "# 2) Impute with column means for numeric features\n",
    "num_cols = [c for c in df.columns if df[c].dtype != 'object']\n",
    "imputed = df.copy()\n",
    "for c in num_cols:\n",
    "    imputed[c] = imputed[c].fillna(imputed[c].mean())\n",
    "\n",
    "print(\"Imputed missing remaining:\", imputed.isna().sum().sum())  # should be 0\n",
    "imputed.head()"
   ]
  },
  {
   "cell_type": "code",
   "execution_count": null,
   "id": "a51820f5",
   "metadata": {},
   "outputs": [],
   "source": [
    "# Feature engineering: simple areas\n",
    "fe = imputed.copy()\n",
    "fe['sepal_area'] = fe['sepal length (cm)'] * fe['sepal width (cm)']\n",
    "fe['petal_area'] = fe['petal length (cm)'] * fe['petal width (cm)']\n",
    "fe[['sepal_area','petal_area']].describe()"
   ]
  },
  {
   "cell_type": "code",
   "execution_count": null,
   "id": "8307c0e1",
   "metadata": {},
   "outputs": [],
   "source": [
    "# Scaling numeric features (standardization)\n",
    "from sklearn.preprocessing import StandardScaler\n",
    "\n",
    "num_cols = [c for c in fe.columns if fe[c].dtype != 'object' and c != 'species_index']\n",
    "scaler = StandardScaler()\n",
    "scaled_vals = scaler.fit_transform(fe[num_cols])\n",
    "scaled = fe.copy()\n",
    "scaled[num_cols] = scaled_vals\n",
    "scaled.head()"
   ]
  },
  {
   "cell_type": "code",
   "execution_count": null,
   "id": "a4c51e98",
   "metadata": {},
   "outputs": [],
   "source": [
    "# Plot 1: Boxplot of sepal length (after imputation)\n",
    "plt.figure()\n",
    "imputed['sepal length (cm)'].plot(kind='box')\n",
    "plt.title('Boxplot: Sepal Length (cm)')\n",
    "plt.ylabel('sepal length (cm)')\n",
    "plt.show()"
   ]
  },
  {
   "cell_type": "code",
   "execution_count": null,
   "id": "14c5fe6c",
   "metadata": {},
   "outputs": [],
   "source": [
    "# Plot 2: Scatter of petal length vs width colored by species via labels\n",
    "plt.figure()\n",
    "for sp, sub in imputed.groupby('species'):\n",
    "    plt.scatter(sub['petal length (cm)'], sub['petal width (cm)'], label=sp, alpha=0.7)\n",
    "plt.title('Petal Length vs Width by Species')\n",
    "plt.xlabel('petal length (cm)')\n",
    "plt.ylabel('petal width (cm)')\n",
    "plt.legend()\n",
    "plt.show()"
   ]
  },
  {
   "cell_type": "code",
   "execution_count": null,
   "id": "5b4b8d46",
   "metadata": {},
   "outputs": [],
   "source": [
    "# Save a cleaned/engineered version for downstream modeling\n",
    "CLEAN_PATH = \"ml_projects/data/iris_cleaned_engineered.csv\"\n",
    "scaled.to_csv(CLEAN_PATH, index=False)\n",
    "print(\"Saved:\", CLEAN_PATH)"
   ]
  },
  {
   "cell_type": "markdown",
   "id": "1b9ac399",
   "metadata": {},
   "source": [
    "## Joins / Merges Example\n",
    "We'll use two small CSVs: `employees.csv` and `departments.csv`."
   ]
  },
  {
   "cell_type": "code",
   "execution_count": null,
   "id": "eb389af3",
   "metadata": {},
   "outputs": [],
   "source": [
    "import pandas as pd\n",
    "EMP_PATH = \"ml_projects/data/employees.csv\"\n",
    "DEPT_PATH = \"ml_projects/data/departments.csv\"\n",
    "\n",
    "emp = pd.read_csv(EMP_PATH)\n",
    "dept = pd.read_csv(DEPT_PATH)\n",
    "display(emp)\n",
    "display(dept)"
   ]
  },
  {
   "cell_type": "code",
   "execution_count": null,
   "id": "3c974a10",
   "metadata": {},
   "outputs": [],
   "source": [
    "# Inner join on dept_id\n",
    "joined = emp.merge(dept, on='dept_id', how='inner')\n",
    "joined"
   ]
  },
  {
   "cell_type": "code",
   "execution_count": null,
   "id": "8b9e53a6",
   "metadata": {},
   "outputs": [],
   "source": [
    "# Simple groupby after join: avg salary by department\n",
    "avg_sal = joined.groupby('dept_name')['salary'].mean().reset_index()\n",
    "avg_sal"
   ]
  }
 ],
 "metadata": {},
 "nbformat": 4,
 "nbformat_minor": 5
}
