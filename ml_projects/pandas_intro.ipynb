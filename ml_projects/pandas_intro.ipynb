{
 "cells": [
  {
   "cell_type": "markdown",
   "id": "ed821733",
   "metadata": {},
   "source": [
    "# Pandas Intro EDA (Iris dataset)\n",
    "This notebook does a quick exploratory data analysis using the classic Iris dataset.\n",
    "- Loads data into a pandas DataFrame\n",
    "- Shows head/info/describe\n",
    "- Groupby aggregates\n",
    "- A few Matplotlib charts\n",
    "\n",
    "You can replace the dataset later with your own CSVs."
   ]
  },
  {
   "cell_type": "code",
   "execution_count": null,
   "id": "76478c53",
   "metadata": {},
   "outputs": [],
   "source": [
    "# Imports\n",
    "import pandas as pd\n",
    "import matplotlib.pyplot as plt\n",
    "\n",
    "# Ensure plots show inside the notebook\n",
    "%matplotlib inline"
   ]
  },
  {
   "cell_type": "code",
   "execution_count": null,
   "id": "235dc1fb",
   "metadata": {},
   "outputs": [],
   "source": [
    "# Load the Iris dataset from sklearn (no internet required).\n",
    "from sklearn.datasets import load_iris\n",
    "iris = load_iris(as_frame=True)\n",
    "df = iris.frame.copy()\n",
    "df.rename(columns={'target': 'species_index'}, inplace=True)\n",
    "df['species'] = df['species_index'].map(dict(enumerate(iris.target_names)))\n",
    "df.head()"
   ]
  },
  {
   "cell_type": "code",
   "execution_count": null,
   "id": "69dab7b7",
   "metadata": {},
   "outputs": [],
   "source": [
    "# Basic structure\n",
    "print(\"Shape:\", df.shape)\n",
    "print(\"\\nInfo:\")\n",
    "print(df.info())\n",
    "display(df.describe(include='all'))"
   ]
  },
  {
   "cell_type": "code",
   "execution_count": null,
   "id": "184fb6a5",
   "metadata": {},
   "outputs": [],
   "source": [
    "# Groupby example: mean measurements by species\n",
    "grouped = df.groupby('species').agg(['mean','min','max'])\n",
    "grouped"
   ]
  },
  {
   "cell_type": "code",
   "execution_count": null,
   "id": "0277d688",
   "metadata": {},
   "outputs": [],
   "source": [
    "# Histogram: sepal length distribution\n",
    "plt.figure()\n",
    "df['sepal length (cm)'].plot(kind='hist', bins=20)\n",
    "plt.title('Sepal Length Distribution')\n",
    "plt.xlabel('sepal length (cm)')\n",
    "plt.ylabel('count')\n",
    "plt.show()"
   ]
  },
  {
   "cell_type": "code",
   "execution_count": null,
   "id": "79526edc",
   "metadata": {},
   "outputs": [],
   "source": [
    "# Scatter: sepal length vs sepal width, colored by species (legend via labels)\n",
    "plt.figure()\n",
    "for sp, sub in df.groupby('species'):\n",
    "    plt.scatter(sub['sepal length (cm)'], sub['sepal width (cm)'], label=sp, alpha=0.7)\n",
    "plt.title('Sepal Length vs Width by Species')\n",
    "plt.xlabel('sepal length (cm)')\n",
    "plt.ylabel('sepal width (cm)')\n",
    "plt.legend()\n",
    "plt.show()"
   ]
  },
  {
   "cell_type": "markdown",
   "id": "6fbf10e0",
   "metadata": {},
   "source": [
    "## Next steps\n",
    "- Swap in your own CSV with `pd.read_csv('yourfile.csv')`.\n",
    "- Try `groupby` on a categorical column you care about.\n",
    "- Add more plots (one per cell) such as boxplots or scatter of other feature pairs.\n",
    "- Save cleaned data to CSV for later modeling."
   ]
  }
 ],
 "metadata": {},
 "nbformat": 4,
 "nbformat_minor": 5
}
